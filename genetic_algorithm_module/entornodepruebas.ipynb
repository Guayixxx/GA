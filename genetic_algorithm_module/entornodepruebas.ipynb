{
 "cells": [
  {
   "cell_type": "code",
   "execution_count": 10,
   "metadata": {},
   "outputs": [],
   "source": [
    "from PIL import Image\n",
    "import numpy as np\n",
    "\n",
    "def load_image_as_matrix(image_path, threshold=128):\n",
    "    \"\"\"\n",
    "    Carga una imagen en escala de grises, la convierte a una matriz binaria usando el umbral dado.\n",
    "    \n",
    "    Parámetros:\n",
    "    - image_path: Ruta de la imagen en blanco y negro.\n",
    "    - threshold: Valor de umbral para clasificar píxeles (0-255).\n",
    "    \n",
    "    Retorno:\n",
    "    - Una matriz binaria (array de NumPy) que representa la imagen.\n",
    "    \"\"\"\n",
    "    # Cargar imagen y convertir a escala de grises\n",
    "    img = Image.open(image_path).convert(\"L\")  # 'L' convierte la imagen a escala de grises\n",
    "    \n",
    "    # Convertir a un array NumPy\n",
    "    img_array = np.array(img)\n",
    "    \n",
    "    # Aplicar umbral para convertir a binario\n",
    "    binary_matrix = (img_array >= threshold).astype(int)\n",
    "    print(\"Dimencion de la imagen: \", binary_matrix.shape)\n",
    "    binary_matrix_flatten = binary_matrix.flatten()\n",
    "    print(f'Tamaño del arreglo: {binary_matrix_flatten.size}')\n",
    "    \n",
    "    return binary_matrix_flatten  # Devolver la matriz en formato 1D para usar como target_matrix\n"
   ]
  },
  {
   "cell_type": "code",
   "execution_count": 11,
   "metadata": {},
   "outputs": [
    {
     "name": "stdout",
     "output_type": "stream",
     "text": [
      "Dimencion de la imagen:  (190, 357)\n",
      "Tamaño del arreglo: 67830\n"
     ]
    },
    {
     "data": {
      "text/plain": [
       "array([0, 0, 0, ..., 0, 0, 0])"
      ]
     },
     "execution_count": 11,
     "metadata": {},
     "output_type": "execute_result"
    }
   ],
   "source": [
    "ruta = \"/home/juan-pablo/Documentos/Artificial/GA/Firma.png\"\n",
    "load_image_as_matrix(ruta)"
   ]
  }
 ],
 "metadata": {
  "kernelspec": {
   "display_name": "base",
   "language": "python",
   "name": "python3"
  },
  "language_info": {
   "codemirror_mode": {
    "name": "ipython",
    "version": 3
   },
   "file_extension": ".py",
   "mimetype": "text/x-python",
   "name": "python",
   "nbconvert_exporter": "python",
   "pygments_lexer": "ipython3",
   "version": "3.12.4"
  }
 },
 "nbformat": 4,
 "nbformat_minor": 2
}
